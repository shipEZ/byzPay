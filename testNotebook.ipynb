{
 "cells": [
  {
   "cell_type": "code",
   "execution_count": 5,
   "metadata": {
    "collapsed": false
   },
   "outputs": [
    {
     "name": "stdout",
     "output_type": "stream",
     "text": [
      "Requirement already satisfied (use --upgrade to upgrade): pyinvoice in /Library/Frameworks/Python.framework/Versions/2.7/lib/python2.7/site-packages\r\n",
      "Requirement already satisfied (use --upgrade to upgrade): reportlab in /Library/Frameworks/Python.framework/Versions/2.7/lib/python2.7/site-packages (from pyinvoice)\r\n",
      "Requirement already satisfied (use --upgrade to upgrade): pillow>=2.4.0 in /Library/Frameworks/Python.framework/Versions/2.7/lib/python2.7/site-packages (from reportlab->pyinvoice)\r\n",
      "Requirement already satisfied (use --upgrade to upgrade): pip>=1.4.1 in /Library/Frameworks/Python.framework/Versions/2.7/lib/python2.7/site-packages/pip-8.1.2-py2.7.egg (from reportlab->pyinvoice)\r\n",
      "Requirement already satisfied (use --upgrade to upgrade): setuptools>=2.2 in /Library/Frameworks/Python.framework/Versions/2.7/lib/python2.7/site-packages (from reportlab->pyinvoice)\r\n"
     ]
    }
   ],
   "source": [
    "!pip install pyinvoice"
   ]
  },
  {
   "cell_type": "code",
   "execution_count": 10,
   "metadata": {
    "collapsed": false
   },
   "outputs": [],
   "source": [
    "import sys"
   ]
  },
  {
   "cell_type": "code",
   "execution_count": 13,
   "metadata": {
    "collapsed": false
   },
   "outputs": [
    {
     "name": "stdout",
     "output_type": "stream",
     "text": [
      "2.7.12 (default, Jun 29 2016, 14:05:02) \n",
      "[GCC 4.2.1 Compatible Apple LLVM 7.3.0 (clang-703.0.31)]\n"
     ]
    }
   ],
   "source": [
    "print sys.version"
   ]
  },
  {
   "cell_type": "code",
   "execution_count": null,
   "metadata": {
    "collapsed": true
   },
   "outputs": [],
   "source": []
  }
 ],
 "metadata": {
  "kernelspec": {
   "display_name": "Python 2",
   "language": "python",
   "name": "python2"
  },
  "language_info": {
   "codemirror_mode": {
    "name": "ipython",
    "version": 2
   },
   "file_extension": ".py",
   "mimetype": "text/x-python",
   "name": "python",
   "nbconvert_exporter": "python",
   "pygments_lexer": "ipython2",
   "version": "2.7.12"
  }
 },
 "nbformat": 4,
 "nbformat_minor": 0
}
